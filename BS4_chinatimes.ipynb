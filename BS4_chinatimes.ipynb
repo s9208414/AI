{
 "cells": [
  {
   "cell_type": "code",
   "execution_count": 16,
   "metadata": {},
   "outputs": [
    {
     "name": "stdout",
     "output_type": "stream",
     "text": [
      "<section class=\"hot-news\">\n",
      "<header>\n",
      "<h4 class=\"section-title\">熱門新聞</h4>\n",
      "</header>\n",
      "<ul class=\"vertical-list\">\n",
      "<li>\n",
      "<h4 class=\"title\"><a href=\"https://www.chinatimes.com/realtimenews/20201014001824-260407?ctrack=pc_main_hot_p01\">馬英九台北市長政績如何？資料一攤開酸民全傻了 - 政治</a></h4>\n",
      "</li>\n",
      "<li>\n",
      "<h4 class=\"title\"><a href=\"https://www.chinatimes.com/realtimenews/20201013005450-260407?ctrack=pc_main_hot_p02\">罷韓後高雄變冷清？他「1張空拍圖」曝現況 網大驚 - 政治</a></h4>\n",
      "</li>\n",
      "<li>\n",
      "<h4 class=\"title\"><a href=\"https://www.chinatimes.com/realtimenews/20201014002371-260407?ctrack=pc_main_hot_p03\">韓國瑜手上握有「最強血滴子」？軍校校友會理事長不藏了 - 政治</a></h4>\n",
      "</li>\n",
      "<li>\n",
      "<h4 class=\"title\"><a href=\"https://www.chinatimes.com/realtimenews/20201013003240-260404?ctrack=pc_main_hot_p04\">林子祥73歲近況曝光 生日同框愛妻葉蒨文「竟像父女」 - 娛樂</a></h4>\n",
      "</li>\n",
      "<li>\n",
      "<h4 class=\"title\"><a href=\"https://www.chinatimes.com/realtimenews/20201014001381-260407?ctrack=pc_main_hot_p05\">得知韓國瑜確定被罷免 李四川立刻做了這件事 - 政治</a></h4>\n",
      "</li>\n",
      "<li>\n",
      "<h4 class=\"title\"><a href=\"https://www.chinatimes.com/realtimenews/20201014001466-260407?ctrack=pc_main_hot_p06\">韓國瑜留下爛攤子？黃捷要高雄對「這55位孩子」負責 - 政治</a></h4>\n",
      "</li>\n",
      "<li>\n",
      "<h4 class=\"title\"><a href=\"https://www.chinatimes.com/realtimenews/20201014000915-260412?ctrack=pc_main_hot_p07\">iPhone 12系列不送充電器及耳機 充電線也改換一新 - 科技 - 科技</a></h4>\n",
      "</li>\n",
      "</ul>\n",
      "</section>\n"
     ]
    }
   ],
   "source": [
    "from bs4 import BeautifulSoup\n",
    "import requests\n",
    "url = 'https://www.chinatimes.com/?chdtv'\n",
    "html = requests.get(url)\n",
    "if html.status_code == requests.codes.ok:\n",
    "    soup = BeautifulSoup(html.text,'html.parser')\n",
    "    section = soup.find_all('section')\n",
    "    for i in section:\n",
    "        if \"\".join(i.get('class')) == 'hot-news':\n",
    "            print(i)\n",
    "        #print(\"\".join(i.get('class')))\n",
    "\n",
    "       "
   ]
  },
  {
   "cell_type": "code",
   "execution_count": null,
   "metadata": {},
   "outputs": [],
   "source": []
  },
  {
   "cell_type": "code",
   "execution_count": null,
   "metadata": {},
   "outputs": [],
   "source": []
  },
  {
   "cell_type": "code",
   "execution_count": null,
   "metadata": {},
   "outputs": [],
   "source": []
  },
  {
   "cell_type": "code",
   "execution_count": null,
   "metadata": {},
   "outputs": [],
   "source": []
  },
  {
   "cell_type": "code",
   "execution_count": null,
   "metadata": {},
   "outputs": [],
   "source": []
  },
  {
   "cell_type": "code",
   "execution_count": null,
   "metadata": {},
   "outputs": [],
   "source": []
  },
  {
   "cell_type": "code",
   "execution_count": null,
   "metadata": {},
   "outputs": [],
   "source": []
  }
 ],
 "metadata": {
  "kernelspec": {
   "display_name": "Python 3",
   "language": "python",
   "name": "python3"
  },
  "language_info": {
   "codemirror_mode": {
    "name": "ipython",
    "version": 3
   },
   "file_extension": ".py",
   "mimetype": "text/x-python",
   "name": "python",
   "nbconvert_exporter": "python",
   "pygments_lexer": "ipython3",
   "version": "3.8.3"
  }
 },
 "nbformat": 4,
 "nbformat_minor": 4
}
